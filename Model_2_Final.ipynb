{
  "nbformat": 4,
  "nbformat_minor": 0,
  "metadata": {
    "colab": {
      "name": "Model 2 Final.ipynb",
      "provenance": [],
      "collapsed_sections": [],
      "authorship_tag": "ABX9TyNPEtpdQb0rJX3inP3CWQtd",
      "include_colab_link": true
    },
    "kernelspec": {
      "name": "python3",
      "display_name": "Python 3"
    },
    "language_info": {
      "name": "python"
    }
  },
  "cells": [
    {
      "cell_type": "markdown",
      "metadata": {
        "id": "view-in-github",
        "colab_type": "text"
      },
      "source": [
        "<a href=\"https://colab.research.google.com/github/roochathakkar05/ProjectEdyodaHTMLCSS/blob/master/Model_2_Final.ipynb\" target=\"_parent\"><img src=\"https://colab.research.google.com/assets/colab-badge.svg\" alt=\"Open In Colab\"/></a>"
      ]
    },
    {
      "cell_type": "code",
      "metadata": {
        "id": "1K79cfwYVti6"
      },
      "source": [
        "import tensorflow as tf\n",
        "import numpy as np\n",
        "import pandas as pd\n",
        "from tensorflow import keras\n",
        "from tensorflow.keras import layers"
      ],
      "execution_count": null,
      "outputs": []
    },
    {
      "cell_type": "code",
      "metadata": {
        "id": "P_u9FLNg6uAi",
        "colab": {
          "base_uri": "https://localhost:8080/"
        },
        "outputId": "f5314251-ad2e-49d5-c284-2d488e59b6b2"
      },
      "source": [
        "!pip install tldextract\n",
        "!pip install python-whois\n",
        "import regex    \n",
        "from tldextract import extract\n",
        "import ssl\n",
        "import socket\n",
        "from bs4 import BeautifulSoup\n",
        "import urllib, bs4, re\n",
        "import urllib.request\n",
        "import googlesearch\n",
        "import whois\n",
        "from datetime import datetime, timezone\n",
        "import time\n",
        "import pandas as pd\n",
        "import numpy as np\n",
        "import re\n",
        "import os.path\n",
        "import requests\n",
        "from urllib.parse import urlparse,urlencode\n",
        "import ipaddress\n",
        "import re"
      ],
      "execution_count": null,
      "outputs": [
        {
          "output_type": "stream",
          "text": [
            "Requirement already satisfied: tldextract in /usr/local/lib/python3.7/dist-packages (3.1.0)\n",
            "Requirement already satisfied: requests>=2.1.0 in /usr/local/lib/python3.7/dist-packages (from tldextract) (2.23.0)\n",
            "Requirement already satisfied: requests-file>=1.4 in /usr/local/lib/python3.7/dist-packages (from tldextract) (1.5.1)\n",
            "Requirement already satisfied: idna in /usr/local/lib/python3.7/dist-packages (from tldextract) (2.10)\n",
            "Requirement already satisfied: filelock>=3.0.8 in /usr/local/lib/python3.7/dist-packages (from tldextract) (3.0.12)\n",
            "Requirement already satisfied: certifi>=2017.4.17 in /usr/local/lib/python3.7/dist-packages (from requests>=2.1.0->tldextract) (2020.12.5)\n",
            "Requirement already satisfied: chardet<4,>=3.0.2 in /usr/local/lib/python3.7/dist-packages (from requests>=2.1.0->tldextract) (3.0.4)\n",
            "Requirement already satisfied: urllib3!=1.25.0,!=1.25.1,<1.26,>=1.21.1 in /usr/local/lib/python3.7/dist-packages (from requests>=2.1.0->tldextract) (1.24.3)\n",
            "Requirement already satisfied: six in /usr/local/lib/python3.7/dist-packages (from requests-file>=1.4->tldextract) (1.15.0)\n",
            "Requirement already satisfied: python-whois in /usr/local/lib/python3.7/dist-packages (0.7.3)\n",
            "Requirement already satisfied: future in /usr/local/lib/python3.7/dist-packages (from python-whois) (0.16.0)\n"
          ],
          "name": "stdout"
        }
      ]
    },
    {
      "cell_type": "code",
      "metadata": {
        "colab": {
          "base_uri": "https://localhost:8080/"
        },
        "id": "zb3Zc-ZDWPtF",
        "outputId": "259505c9-2072-4cfb-c8d2-fd780783a6ea"
      },
      "source": [
        "from google.colab import drive\n",
        "drive.mount('/content/drive/')"
      ],
      "execution_count": null,
      "outputs": [
        {
          "output_type": "stream",
          "text": [
            "Drive already mounted at /content/drive/; to attempt to forcibly remount, call drive.mount(\"/content/drive/\", force_remount=True).\n"
          ],
          "name": "stdout"
        }
      ]
    },
    {
      "cell_type": "code",
      "metadata": {
        "id": "ky3y1e3AWRqX"
      },
      "source": [
        "training_data = pd.read_csv('/content/drive/My Drive/Colab Notebooks/urldatafinal.csv')\n",
        "training_data = training_data.drop(\"Unnamed: 0\",axis=1)"
      ],
      "execution_count": null,
      "outputs": []
    },
    {
      "cell_type": "code",
      "metadata": {
        "colab": {
          "base_uri": "https://localhost:8080/"
        },
        "id": "xEmuwWxYWVo5",
        "outputId": "1c5070b3-85cb-4cd2-f43d-1e7873ee93cf"
      },
      "source": [
        "print(training_data.info())"
      ],
      "execution_count": null,
      "outputs": [
        {
          "output_type": "stream",
          "text": [
            "<class 'pandas.core.frame.DataFrame'>\n",
            "RangeIndex: 12040 entries, 0 to 12039\n",
            "Data columns (total 14 columns):\n",
            " #   Column              Non-Null Count  Dtype  \n",
            "---  ------              --------------  -----  \n",
            " 0   Unnamed: 0.1        12040 non-null  int64  \n",
            " 1   url                 12040 non-null  object \n",
            " 2   label               12040 non-null  object \n",
            " 3   result              12040 non-null  int64  \n",
            " 4   have_ip_address     12040 non-null  int64  \n",
            " 5   url_length          12040 non-null  int64  \n",
            " 6   url_shortener       12040 non-null  int64  \n",
            " 7   have_atrate_symbol  12040 non-null  int64  \n",
            " 8   have_subdomain      12040 non-null  int64  \n",
            " 9   redirection         12040 non-null  int64  \n",
            " 10  httpDomain          12040 non-null  int64  \n",
            " 11  prefixSuffix        12040 non-null  int64  \n",
            " 12  getDepth            12040 non-null  int64  \n",
            " 13  domainAge           10659 non-null  float64\n",
            "dtypes: float64(1), int64(11), object(2)\n",
            "memory usage: 1.3+ MB\n",
            "None\n"
          ],
          "name": "stdout"
        }
      ]
    },
    {
      "cell_type": "code",
      "metadata": {
        "colab": {
          "base_uri": "https://localhost:8080/",
          "height": 812
        },
        "id": "cdjiKISvXVDv",
        "outputId": "8d878321-2edd-438f-c267-8412269187d8"
      },
      "source": [
        "import seaborn as sns\n",
        "import matplotlib.pyplot as plt\n",
        "corr = training_data.corr()\n",
        "plt.figure(figsize=(20,12))\n",
        "sns.heatmap(corr,annot=True)"
      ],
      "execution_count": null,
      "outputs": [
        {
          "output_type": "execute_result",
          "data": {
            "text/plain": [
              "<matplotlib.axes._subplots.AxesSubplot at 0x7f921bca0590>"
            ]
          },
          "metadata": {
            "tags": []
          },
          "execution_count": 45
        },
        {
          "output_type": "display_data",
          "data": {
            "image/png": "[encoded data removed]",
            "text/plain": [
              "<Figure size 1440x864 with 2 Axes>"
            ]
          },
          "metadata": {
            "tags": [],
            "needs_background": "light"
          }
        }
      ]
    },
    {
      "cell_type": "code",
      "metadata": {
        "id": "blt7APdTXp1Q"
      },
      "source": [
        "from sklearn.model_selection import train_test_split\n",
        "X=training_data.iloc[:,4:13].values\n",
        "y=training_data.iloc[:,[3]].values\n",
        "X_train,X_test,y_train,y_test = train_test_split(X,y,test_size=0.33,random_state=42)"
      ],
      "execution_count": null,
      "outputs": []
    },
    {
      "cell_type": "code",
      "metadata": {
        "colab": {
          "base_uri": "https://localhost:8080/"
        },
        "id": "mFWV2JWJYUvQ",
        "outputId": "92b6db17-9f8e-41e7-c68e-ef51ee434fbc"
      },
      "source": [
        "print(f'X_train shape: {X_train.shape}')\n",
        "print(f'Y_train shape: {y_train.shape}')\n",
        "print(f'X_test shape: {X_test.shape}')\n",
        "print(f'Y_test shape: {y_test.shape}')"
      ],
      "execution_count": null,
      "outputs": [
        {
          "output_type": "stream",
          "text": [
            "X_train shape: (8066, 9)\n",
            "Y_train shape: (8066, 1)\n",
            "X_test shape: (3974, 9)\n",
            "Y_test shape: (3974, 1)\n"
          ],
          "name": "stdout"
        }
      ]
    },
    {
      "cell_type": "code",
      "metadata": {
        "id": "O_OR6wZqatir"
      },
      "source": [
        "from sklearn.preprocessing import StandardScaler\n",
        "scaler = StandardScaler().fit(X_train)\n",
        "\n",
        "# Scale the train set\n",
        "X_train = scaler.transform(X_train)\n",
        "\n",
        "# Scale the test set\n",
        "X_test = scaler.transform(X_test)"
      ],
      "execution_count": null,
      "outputs": []
    },
    {
      "cell_type": "code",
      "metadata": {
        "id": "jRqU2bUtaypl"
      },
      "source": [
        "from keras.models import Sequential\n",
        "from keras.layers import Dense\n",
        "\n",
        "model = Sequential()\n",
        "model.add(Dense(10, activation='relu',input_shape=(9,)))\n",
        "model.add(Dense(5,activation='relu'))\n",
        "model.add(Dense(1,activation='sigmoid'))"
      ],
      "execution_count": null,
      "outputs": []
    },
    {
      "cell_type": "code",
      "metadata": {
        "colab": {
          "base_uri": "https://localhost:8080/"
        },
        "id": "Xy4UHOcUYj8j",
        "outputId": "88a03246-6db0-4d43-834d-0fa6b2c3a019"
      },
      "source": [
        "print(\"Shape\")\n",
        "model.output_shape\n",
        "print(\"Summary\")\n",
        "model.summary()\n",
        "print(\"config\")\n",
        "model.get_config()\n",
        "print(\"Weight\")\n",
        "model.get_weights()"
      ],
      "execution_count": null,
      "outputs": [
        {
          "output_type": "stream",
          "text": [
            "Shape\n",
            "Summary\n",
            "Model: \"sequential_3\"\n",
            "_________________________________________________________________\n",
            "Layer (type)                 Output Shape              Param #   \n",
            "=================================================================\n",
            "dense_9 (Dense)              (None, 10)                100       \n",
            "_________________________________________________________________\n",
            "dense_10 (Dense)             (None, 5)                 55        \n",
            "_________________________________________________________________\n",
            "dense_11 (Dense)             (None, 1)                 6         \n",
            "=================================================================\n",
            "Total params: 161\n",
            "Trainable params: 161\n",
            "Non-trainable params: 0\n",
            "_________________________________________________________________\n",
            "config\n",
            "Weight\n"
          ],
          "name": "stdout"
        },
        {
          "output_type": "execute_result",
          "data": {
            "text/plain": [
              "[array([[ 0.34641045, -0.25573826, -0.09899127,  0.3170693 ,  0.12017506,\n",
              "         -0.33312798, -0.04806602,  0.31051838,  0.47273642,  0.19631815],\n",
              "        [-0.5274683 ,  0.18305898,  0.5045425 , -0.43580264, -0.00593221,\n",
              "          0.00388074, -0.21485394, -0.04117948, -0.37518674, -0.0615347 ],\n",
              "        [ 0.21872717, -0.25400496,  0.51272863, -0.00506538, -0.3211261 ,\n",
              "         -0.39170521,  0.2792179 , -0.02113867,  0.30717987,  0.21320641],\n",
              "        [ 0.08335811,  0.54225165,  0.45336646,  0.2825594 ,  0.04786503,\n",
              "          0.25599992, -0.06359479,  0.28869808,  0.18746942,  0.22545403],\n",
              "        [-0.29655838,  0.11060572, -0.16066533, -0.08739614,  0.11592829,\n",
              "         -0.55532455, -0.20612222, -0.3083739 , -0.2252911 , -0.05856627],\n",
              "        [ 0.24374664, -0.24227437, -0.12537   , -0.25829577,  0.18261242,\n",
              "          0.439717  ,  0.10451984,  0.4157369 , -0.31673717, -0.15068212],\n",
              "        [ 0.41150504, -0.11801386, -0.48136187, -0.3201337 ,  0.14529842,\n",
              "         -0.07878393, -0.23591167, -0.56135696, -0.48240572,  0.0858981 ],\n",
              "        [ 0.39126378, -0.5261371 , -0.06139886,  0.01169002,  0.24659616,\n",
              "         -0.36686996, -0.37522197, -0.04905784,  0.43266445,  0.41435546],\n",
              "        [-0.14518145, -0.4882554 ,  0.14165753,  0.33451265, -0.4973332 ,\n",
              "         -0.35871035, -0.27737182,  0.50851613,  0.3489234 , -0.46909297]],\n",
              "       dtype=float32),\n",
              " array([0., 0., 0., 0., 0., 0., 0., 0., 0., 0.], dtype=float32),\n",
              " array([[-0.2548878 ,  0.58504695, -0.53453034,  0.14313823, -0.5113159 ],\n",
              "        [ 0.17305571, -0.51478255, -0.42678034, -0.61563575,  0.43721014],\n",
              "        [-0.6169517 , -0.19251084, -0.06967181, -0.30182227,  0.01857978],\n",
              "        [-0.62179655,  0.40588802,  0.46978086, -0.60463506, -0.05444843],\n",
              "        [-0.2493276 , -0.29714298, -0.34943983,  0.33043873,  0.55034274],\n",
              "        [ 0.40869457, -0.37376076,  0.46587676,  0.1516087 , -0.16416973],\n",
              "        [ 0.48941344,  0.6033296 , -0.29839832, -0.2747416 , -0.06382573],\n",
              "        [ 0.60596365,  0.40344447,  0.00518686,  0.34396333, -0.5245297 ],\n",
              "        [ 0.46781152, -0.08693796, -0.2602161 , -0.4107085 ,  0.06238645],\n",
              "        [ 0.19239879,  0.584691  ,  0.44482917,  0.19117999,  0.3582996 ]],\n",
              "       dtype=float32),\n",
              " array([0., 0., 0., 0., 0.], dtype=float32),\n",
              " array([[ 0.95740986],\n",
              "        [-0.3979864 ],\n",
              "        [-0.7635989 ],\n",
              "        [ 0.8296113 ],\n",
              "        [ 0.15229797]], dtype=float32),\n",
              " array([0.], dtype=float32)]"
            ]
          },
          "metadata": {
            "tags": []
          },
          "execution_count": 56
        }
      ]
    },
    {
      "cell_type": "code",
      "metadata": {
        "colab": {
          "base_uri": "https://localhost:8080/"
        },
        "id": "fcV8cxWjYmdB",
        "outputId": "3829e2d0-ba27-4683-f074-336bb530da72"
      },
      "source": [
        "model.compile(loss='binary_crossentropy',\n",
        "              optimizer='adam',\n",
        "              metrics=['accuracy'])\n",
        "\n",
        "model.fit(X_train,y_train,epochs=300,batch_size=10,verbose=1)"
      ],
      "execution_count": null,
      "outputs": [
        {
          "output_type": "stream",
          "text": [
            "Epoch 1/300\n",
            "807/807 [==============================] - 2s 1ms/step - loss: 0.3933 - accuracy: 0.8617\n",
            "Epoch 2/300\n",
            "807/807 [==============================] - 1s 1ms/step - loss: 0.1487 - accuracy: 0.9531\n",
            "Epoch 3/300\n",
            "807/807 [==============================] - 1s 1ms/step - loss: 0.1099 - accuracy: 0.9557\n",
            "Epoch 4/300\n",
            "807/807 [==============================] - 1s 1ms/step - loss: 0.1086 - accuracy: 0.9525\n",
            "Epoch 5/300\n",
            "807/807 [==============================] - 1s 1ms/step - loss: 0.1020 - accuracy: 0.9595\n",
            "Epoch 6/300\n",
            "807/807 [==============================] - 1s 1ms/step - loss: 0.1026 - accuracy: 0.9599\n",
            "Epoch 7/300\n",
            "807/807 [==============================] - 1s 1ms/step - loss: 0.0959 - accuracy: 0.9591\n",
            "Epoch 8/300\n",
            "807/807 [==============================] - 1s 1ms/step - loss: 0.1050 - accuracy: 0.9579\n",
            "Epoch 9/300\n",
            "807/807 [==============================] - 1s 1ms/step - loss: 0.0916 - accuracy: 0.9652\n",
            "Epoch 10/300\n",
            "807/807 [==============================] - 1s 1ms/step - loss: 0.0973 - accuracy: 0.9617\n",
            "Epoch 11/300\n",
            "807/807 [==============================] - 1s 1ms/step - loss: 0.0884 - accuracy: 0.9651\n",
            "Epoch 12/300\n",
            "807/807 [==============================] - 1s 1ms/step - loss: 0.1031 - accuracy: 0.9611\n",
            "Epoch 13/300\n",
            "807/807 [==============================] - 1s 2ms/step - loss: 0.1008 - accuracy: 0.9580\n",
            "Epoch 14/300\n",
            "807/807 [==============================] - 1s 1ms/step - loss: 0.1007 - accuracy: 0.9587\n",
            "Epoch 15/300\n",
            "807/807 [==============================] - 1s 1ms/step - loss: 0.0963 - accuracy: 0.9620\n",
            "Epoch 16/300\n",
            "807/807 [==============================] - 1s 1ms/step - loss: 0.1004 - accuracy: 0.9594\n",
            "Epoch 17/300\n",
            "807/807 [==============================] - 1s 1ms/step - loss: 0.1002 - accuracy: 0.9584\n",
            "Epoch 18/300\n",
            "807/807 [==============================] - 1s 1ms/step - loss: 0.0931 - accuracy: 0.9631\n",
            "Epoch 19/300\n",
            "807/807 [==============================] - 1s 1ms/step - loss: 0.0932 - accuracy: 0.9640\n",
            "Epoch 20/300\n",
            "807/807 [==============================] - 1s 1ms/step - loss: 0.0953 - accuracy: 0.9610\n",
            "Epoch 21/300\n",
            "807/807 [==============================] - 1s 1ms/step - loss: 0.0895 - accuracy: 0.9670\n",
            "Epoch 22/300\n",
            "807/807 [==============================] - 1s 1ms/step - loss: 0.0927 - accuracy: 0.9644\n",
            "Epoch 23/300\n",
            "807/807 [==============================] - 1s 1ms/step - loss: 0.0914 - accuracy: 0.9656\n",
            "Epoch 24/300\n",
            "807/807 [==============================] - 1s 1ms/step - loss: 0.0987 - accuracy: 0.9608\n",
            "Epoch 25/300\n",
            "807/807 [==============================] - 1s 1ms/step - loss: 0.0925 - accuracy: 0.9620\n",
            "Epoch 26/300\n",
            "807/807 [==============================] - 1s 1ms/step - loss: 0.0947 - accuracy: 0.9639\n",
            "Epoch 27/300\n",
            "807/807 [==============================] - 1s 1ms/step - loss: 0.1004 - accuracy: 0.9591\n",
            "Epoch 28/300\n",
            "807/807 [==============================] - 1s 1ms/step - loss: 0.0917 - accuracy: 0.9656\n",
            "Epoch 29/300\n",
            "807/807 [==============================] - 1s 1ms/step - loss: 0.0961 - accuracy: 0.9638\n",
            "Epoch 30/300\n",
            "807/807 [==============================] - 1s 1ms/step - loss: 0.0963 - accuracy: 0.9616\n",
            "Epoch 31/300\n",
            "807/807 [==============================] - 1s 1ms/step - loss: 0.0948 - accuracy: 0.9643\n",
            "Epoch 32/300\n",
            "807/807 [==============================] - 1s 1ms/step - loss: 0.0946 - accuracy: 0.9609\n",
            "Epoch 33/300\n",
            "807/807 [==============================] - 1s 1ms/step - loss: 0.0915 - accuracy: 0.9627\n",
            "Epoch 34/300\n",
            "807/807 [==============================] - 1s 1ms/step - loss: 0.0939 - accuracy: 0.9635\n",
            "Epoch 35/300\n",
            "807/807 [==============================] - 1s 1ms/step - loss: 0.0901 - accuracy: 0.9643\n",
            "Epoch 36/300\n",
            "807/807 [==============================] - 1s 1ms/step - loss: 0.0976 - accuracy: 0.9613\n",
            "Epoch 37/300\n",
            "807/807 [==============================] - 1s 1ms/step - loss: 0.1048 - accuracy: 0.9587\n",
            "Epoch 38/300\n",
            "807/807 [==============================] - 1s 1ms/step - loss: 0.0915 - accuracy: 0.9657\n",
            "Epoch 39/300\n",
            "807/807 [==============================] - 1s 1ms/step - loss: 0.0915 - accuracy: 0.9650\n",
            "Epoch 40/300\n",
            "807/807 [==============================] - 1s 1ms/step - loss: 0.0965 - accuracy: 0.9611\n",
            "Epoch 41/300\n",
            "807/807 [==============================] - 1s 1ms/step - loss: 0.0889 - accuracy: 0.9648\n",
            "Epoch 42/300\n",
            "807/807 [==============================] - 1s 1ms/step - loss: 0.0954 - accuracy: 0.9636\n",
            "Epoch 43/300\n",
            "807/807 [==============================] - 1s 2ms/step - loss: 0.0920 - accuracy: 0.9621\n",
            "Epoch 44/300\n",
            "807/807 [==============================] - 1s 2ms/step - loss: 0.0910 - accuracy: 0.9646\n",
            "Epoch 45/300\n",
            "807/807 [==============================] - 1s 2ms/step - loss: 0.0919 - accuracy: 0.9670\n",
            "Epoch 46/300\n",
            "807/807 [==============================] - 1s 1ms/step - loss: 0.0885 - accuracy: 0.9664\n",
            "Epoch 47/300\n",
            "807/807 [==============================] - 1s 2ms/step - loss: 0.0943 - accuracy: 0.9614\n",
            "Epoch 48/300\n",
            "807/807 [==============================] - 1s 2ms/step - loss: 0.1013 - accuracy: 0.9590\n",
            "Epoch 49/300\n",
            "807/807 [==============================] - 1s 1ms/step - loss: 0.0943 - accuracy: 0.9618\n",
            "Epoch 50/300\n",
            "807/807 [==============================] - 1s 1ms/step - loss: 0.0940 - accuracy: 0.9624\n",
            "Epoch 51/300\n",
            "807/807 [==============================] - 1s 1ms/step - loss: 0.0913 - accuracy: 0.9658\n",
            "Epoch 52/300\n",
            "807/807 [==============================] - 1s 1ms/step - loss: 0.0909 - accuracy: 0.9615\n",
            "Epoch 53/300\n",
            "807/807 [==============================] - 1s 2ms/step - loss: 0.0949 - accuracy: 0.9628\n",
            "Epoch 54/300\n",
            "807/807 [==============================] - 1s 1ms/step - loss: 0.0925 - accuracy: 0.9643\n",
            "Epoch 55/300\n",
            "807/807 [==============================] - 1s 2ms/step - loss: 0.0964 - accuracy: 0.9626\n",
            "Epoch 56/300\n",
            "807/807 [==============================] - 1s 1ms/step - loss: 0.0991 - accuracy: 0.9616\n",
            "Epoch 57/300\n",
            "807/807 [==============================] - 1s 2ms/step - loss: 0.0949 - accuracy: 0.9645\n",
            "Epoch 58/300\n",
            "807/807 [==============================] - 1s 1ms/step - loss: 0.0926 - accuracy: 0.9637\n",
            "Epoch 59/300\n",
            "807/807 [==============================] - 1s 2ms/step - loss: 0.0971 - accuracy: 0.9638\n",
            "Epoch 60/300\n",
            "807/807 [==============================] - 1s 1ms/step - loss: 0.1049 - accuracy: 0.9567\n",
            "Epoch 61/300\n",
            "807/807 [==============================] - 1s 1ms/step - loss: 0.0907 - accuracy: 0.9643\n",
            "Epoch 62/300\n",
            "807/807 [==============================] - 1s 1ms/step - loss: 0.0953 - accuracy: 0.9639\n",
            "Epoch 63/300\n",
            "807/807 [==============================] - 1s 1ms/step - loss: 0.0935 - accuracy: 0.9601\n",
            "Epoch 64/300\n",
            "807/807 [==============================] - 1s 1ms/step - loss: 0.0860 - accuracy: 0.9659\n",
            "Epoch 65/300\n",
            "807/807 [==============================] - 1s 2ms/step - loss: 0.1040 - accuracy: 0.9601\n",
            "Epoch 66/300\n",
            "807/807 [==============================] - 1s 1ms/step - loss: 0.0962 - accuracy: 0.9607\n",
            "Epoch 67/300\n",
            "807/807 [==============================] - 1s 1ms/step - loss: 0.0877 - accuracy: 0.9648\n",
            "Epoch 68/300\n",
            "807/807 [==============================] - 1s 2ms/step - loss: 0.0921 - accuracy: 0.9647\n",
            "Epoch 69/300\n",
            "807/807 [==============================] - 1s 1ms/step - loss: 0.0946 - accuracy: 0.9622\n",
            "Epoch 70/300\n",
            "807/807 [==============================] - 1s 2ms/step - loss: 0.0916 - accuracy: 0.9642\n",
            "Epoch 71/300\n",
            "807/807 [==============================] - 1s 1ms/step - loss: 0.0985 - accuracy: 0.9607\n",
            "Epoch 72/300\n",
            "807/807 [==============================] - 1s 1ms/step - loss: 0.0989 - accuracy: 0.9593\n",
            "Epoch 73/300\n",
            "807/807 [==============================] - 1s 1ms/step - loss: 0.0873 - accuracy: 0.9666\n",
            "Epoch 74/300\n",
            "807/807 [==============================] - 1s 1ms/step - loss: 0.0949 - accuracy: 0.9637\n",
            "Epoch 75/300\n",
            "807/807 [==============================] - 1s 1ms/step - loss: 0.1056 - accuracy: 0.9592\n",
            "Epoch 76/300\n",
            "807/807 [==============================] - 1s 1ms/step - loss: 0.0910 - accuracy: 0.9640\n",
            "Epoch 77/300\n",
            "807/807 [==============================] - 1s 1ms/step - loss: 0.0893 - accuracy: 0.9654\n",
            "Epoch 78/300\n",
            "807/807 [==============================] - 1s 1ms/step - loss: 0.0898 - accuracy: 0.9652\n",
            "Epoch 79/300\n",
            "807/807 [==============================] - 1s 1ms/step - loss: 0.0903 - accuracy: 0.9665\n",
            "Epoch 80/300\n",
            "807/807 [==============================] - 1s 1ms/step - loss: 0.0897 - accuracy: 0.9664\n",
            "Epoch 81/300\n",
            "807/807 [==============================] - 1s 1ms/step - loss: 0.0989 - accuracy: 0.9605\n",
            "Epoch 82/300\n",
            "807/807 [==============================] - 1s 1ms/step - loss: 0.0875 - accuracy: 0.9648\n",
            "Epoch 83/300\n",
            "807/807 [==============================] - 1s 1ms/step - loss: 0.0898 - accuracy: 0.9642\n",
            "Epoch 84/300\n",
            "807/807 [==============================] - 1s 1ms/step - loss: 0.0932 - accuracy: 0.9630\n",
            "Epoch 85/300\n",
            "807/807 [==============================] - 1s 1ms/step - loss: 0.0937 - accuracy: 0.9630\n",
            "Epoch 86/300\n",
            "807/807 [==============================] - 1s 1ms/step - loss: 0.0896 - accuracy: 0.9637\n",
            "Epoch 87/300\n",
            "807/807 [==============================] - 1s 1ms/step - loss: 0.0904 - accuracy: 0.9658\n",
            "Epoch 88/300\n",
            "807/807 [==============================] - 1s 1ms/step - loss: 0.0924 - accuracy: 0.9630\n",
            "Epoch 89/300\n",
            "807/807 [==============================] - 1s 1ms/step - loss: 0.0903 - accuracy: 0.9647\n",
            "Epoch 90/300\n",
            "807/807 [==============================] - 1s 1ms/step - loss: 0.0920 - accuracy: 0.9648\n",
            "Epoch 91/300\n",
            "807/807 [==============================] - 1s 1ms/step - loss: 0.0948 - accuracy: 0.9650\n",
            "Epoch 92/300\n",
            "807/807 [==============================] - 1s 1ms/step - loss: 0.0948 - accuracy: 0.9630\n",
            "Epoch 93/300\n",
            "807/807 [==============================] - 1s 1ms/step - loss: 0.1009 - accuracy: 0.9602\n",
            "Epoch 94/300\n",
            "807/807 [==============================] - 1s 1ms/step - loss: 0.0950 - accuracy: 0.9614\n",
            "Epoch 95/300\n",
            "807/807 [==============================] - 1s 1ms/step - loss: 0.0885 - accuracy: 0.9633\n",
            "Epoch 96/300\n",
            "807/807 [==============================] - 1s 1ms/step - loss: 0.0896 - accuracy: 0.9637\n",
            "Epoch 97/300\n",
            "807/807 [==============================] - 1s 1ms/step - loss: 0.0933 - accuracy: 0.9629\n",
            "Epoch 98/300\n",
            "807/807 [==============================] - 1s 1ms/step - loss: 0.0945 - accuracy: 0.9656\n",
            "Epoch 99/300\n",
            "807/807 [==============================] - 1s 1ms/step - loss: 0.0999 - accuracy: 0.9603\n",
            "Epoch 100/300\n",
            "807/807 [==============================] - 1s 2ms/step - loss: 0.0872 - accuracy: 0.9642\n",
            "Epoch 101/300\n",
            "807/807 [==============================] - 1s 1ms/step - loss: 0.0917 - accuracy: 0.9621\n",
            "Epoch 102/300\n",
            "807/807 [==============================] - 1s 1ms/step - loss: 0.0894 - accuracy: 0.9638\n",
            "Epoch 103/300\n",
            "807/807 [==============================] - 1s 1ms/step - loss: 0.0857 - accuracy: 0.9647\n",
            "Epoch 104/300\n",
            "807/807 [==============================] - 1s 2ms/step - loss: 0.0936 - accuracy: 0.9625\n",
            "Epoch 105/300\n",
            "807/807 [==============================] - 1s 1ms/step - loss: 0.0926 - accuracy: 0.9642\n",
            "Epoch 106/300\n",
            "807/807 [==============================] - 1s 1ms/step - loss: 0.0925 - accuracy: 0.9613\n",
            "Epoch 107/300\n",
            "807/807 [==============================] - 1s 1ms/step - loss: 0.0882 - accuracy: 0.9654\n",
            "Epoch 108/300\n",
            "807/807 [==============================] - 1s 1ms/step - loss: 0.0974 - accuracy: 0.9620\n",
            "Epoch 109/300\n",
            "807/807 [==============================] - 1s 1ms/step - loss: 0.0879 - accuracy: 0.9657\n",
            "Epoch 110/300\n",
            "807/807 [==============================] - 1s 1ms/step - loss: 0.0903 - accuracy: 0.9663\n",
            "Epoch 111/300\n",
            "807/807 [==============================] - 1s 1ms/step - loss: 0.1003 - accuracy: 0.9572\n",
            "Epoch 112/300\n",
            "807/807 [==============================] - 1s 1ms/step - loss: 0.0995 - accuracy: 0.9607\n",
            "Epoch 113/300\n",
            "807/807 [==============================] - 1s 1ms/step - loss: 0.0933 - accuracy: 0.9603\n",
            "Epoch 114/300\n",
            "807/807 [==============================] - 1s 1ms/step - loss: 0.0978 - accuracy: 0.9610\n",
            "Epoch 115/300\n",
            "807/807 [==============================] - 1s 1ms/step - loss: 0.0941 - accuracy: 0.9622\n",
            "Epoch 116/300\n",
            "807/807 [==============================] - 1s 1ms/step - loss: 0.0867 - accuracy: 0.9661\n",
            "Epoch 117/300\n",
            "807/807 [==============================] - 1s 1ms/step - loss: 0.0942 - accuracy: 0.9619\n",
            "Epoch 118/300\n",
            "807/807 [==============================] - 1s 1ms/step - loss: 0.0944 - accuracy: 0.9602\n",
            "Epoch 119/300\n",
            "807/807 [==============================] - 1s 1ms/step - loss: 0.0996 - accuracy: 0.9577\n",
            "Epoch 120/300\n",
            "807/807 [==============================] - 1s 1ms/step - loss: 0.0966 - accuracy: 0.9626\n",
            "Epoch 121/300\n",
            "807/807 [==============================] - 1s 1ms/step - loss: 0.0869 - accuracy: 0.9664\n",
            "Epoch 122/300\n",
            "807/807 [==============================] - 1s 1ms/step - loss: 0.0897 - accuracy: 0.9619\n",
            "Epoch 123/300\n",
            "807/807 [==============================] - 1s 1ms/step - loss: 0.0947 - accuracy: 0.9643\n",
            "Epoch 124/300\n",
            "807/807 [==============================] - 1s 1ms/step - loss: 0.0971 - accuracy: 0.9598\n",
            "Epoch 125/300\n",
            "807/807 [==============================] - 1s 1ms/step - loss: 0.0903 - accuracy: 0.9638\n",
            "Epoch 126/300\n",
            "807/807 [==============================] - 1s 1ms/step - loss: 0.0987 - accuracy: 0.9615\n",
            "Epoch 127/300\n",
            "807/807 [==============================] - 1s 1ms/step - loss: 0.0946 - accuracy: 0.9606\n",
            "Epoch 128/300\n",
            "807/807 [==============================] - 1s 1ms/step - loss: 0.0975 - accuracy: 0.9608\n",
            "Epoch 129/300\n",
            "807/807 [==============================] - 1s 2ms/step - loss: 0.0955 - accuracy: 0.9605\n",
            "Epoch 130/300\n",
            "807/807 [==============================] - 1s 2ms/step - loss: 0.0904 - accuracy: 0.9662\n",
            "Epoch 131/300\n",
            "807/807 [==============================] - 1s 1ms/step - loss: 0.0942 - accuracy: 0.9599\n",
            "Epoch 132/300\n",
            "807/807 [==============================] - 1s 1ms/step - loss: 0.0903 - accuracy: 0.9640\n",
            "Epoch 133/300\n",
            "807/807 [==============================] - 1s 1ms/step - loss: 0.0913 - accuracy: 0.9649\n",
            "Epoch 134/300\n",
            "807/807 [==============================] - 1s 1ms/step - loss: 0.0930 - accuracy: 0.9630\n",
            "Epoch 135/300\n",
            "807/807 [==============================] - 1s 1ms/step - loss: 0.0920 - accuracy: 0.9631\n",
            "Epoch 136/300\n",
            "807/807 [==============================] - 1s 1ms/step - loss: 0.0934 - accuracy: 0.9629\n",
            "Epoch 137/300\n",
            "807/807 [==============================] - 1s 1ms/step - loss: 0.0920 - accuracy: 0.9652\n",
            "Epoch 138/300\n",
            "807/807 [==============================] - 1s 1ms/step - loss: 0.0967 - accuracy: 0.9630\n",
            "Epoch 139/300\n",
            "807/807 [==============================] - 1s 1ms/step - loss: 0.0889 - accuracy: 0.9645\n",
            "Epoch 140/300\n",
            "807/807 [==============================] - 1s 1ms/step - loss: 0.0871 - accuracy: 0.9645\n",
            "Epoch 141/300\n",
            "807/807 [==============================] - 1s 1ms/step - loss: 0.0909 - accuracy: 0.9641\n",
            "Epoch 142/300\n",
            "807/807 [==============================] - 1s 1ms/step - loss: 0.0908 - accuracy: 0.9633\n",
            "Epoch 143/300\n",
            "807/807 [==============================] - 1s 1ms/step - loss: 0.0970 - accuracy: 0.9616\n",
            "Epoch 144/300\n",
            "807/807 [==============================] - 1s 1ms/step - loss: 0.0926 - accuracy: 0.9642\n",
            "Epoch 145/300\n",
            "807/807 [==============================] - 1s 1ms/step - loss: 0.0868 - accuracy: 0.9664\n",
            "Epoch 146/300\n",
            "807/807 [==============================] - 1s 1ms/step - loss: 0.0926 - accuracy: 0.9612\n",
            "Epoch 147/300\n",
            "807/807 [==============================] - 1s 1ms/step - loss: 0.0912 - accuracy: 0.9632\n",
            "Epoch 148/300\n",
            "807/807 [==============================] - 1s 1ms/step - loss: 0.0860 - accuracy: 0.9661\n",
            "Epoch 149/300\n",
            "807/807 [==============================] - 1s 1ms/step - loss: 0.0922 - accuracy: 0.9630\n",
            "Epoch 150/300\n",
            "807/807 [==============================] - 1s 1ms/step - loss: 0.0899 - accuracy: 0.9642\n",
            "Epoch 151/300\n",
            "807/807 [==============================] - 1s 2ms/step - loss: 0.0908 - accuracy: 0.9650\n",
            "Epoch 152/300\n",
            "807/807 [==============================] - 1s 1ms/step - loss: 0.0908 - accuracy: 0.9628\n",
            "Epoch 153/300\n",
            "807/807 [==============================] - 1s 1ms/step - loss: 0.0967 - accuracy: 0.9622\n",
            "Epoch 154/300\n",
            "807/807 [==============================] - 1s 1ms/step - loss: 0.0892 - accuracy: 0.9630\n",
            "Epoch 155/300\n",
            "807/807 [==============================] - 1s 1ms/step - loss: 0.0913 - accuracy: 0.9630\n",
            "Epoch 156/300\n",
            "807/807 [==============================] - 1s 1ms/step - loss: 0.0952 - accuracy: 0.9627\n",
            "Epoch 157/300\n",
            "807/807 [==============================] - 1s 1ms/step - loss: 0.0877 - accuracy: 0.9653\n",
            "Epoch 158/300\n",
            "807/807 [==============================] - 1s 1ms/step - loss: 0.0890 - accuracy: 0.9630\n",
            "Epoch 159/300\n",
            "807/807 [==============================] - 1s 1ms/step - loss: 0.0946 - accuracy: 0.9630\n",
            "Epoch 160/300\n",
            "807/807 [==============================] - 1s 1ms/step - loss: 0.1021 - accuracy: 0.9574\n",
            "Epoch 161/300\n",
            "807/807 [==============================] - 1s 1ms/step - loss: 0.0945 - accuracy: 0.9617\n",
            "Epoch 162/300\n",
            "807/807 [==============================] - 1s 2ms/step - loss: 0.0900 - accuracy: 0.9662\n",
            "Epoch 163/300\n",
            "807/807 [==============================] - 1s 1ms/step - loss: 0.0905 - accuracy: 0.9635\n",
            "Epoch 164/300\n",
            "807/807 [==============================] - 1s 1ms/step - loss: 0.0945 - accuracy: 0.9643\n",
            "Epoch 165/300\n",
            "807/807 [==============================] - 1s 1ms/step - loss: 0.0983 - accuracy: 0.9618\n",
            "Epoch 166/300\n",
            "807/807 [==============================] - 1s 1ms/step - loss: 0.0967 - accuracy: 0.9612\n",
            "Epoch 167/300\n",
            "807/807 [==============================] - 1s 1ms/step - loss: 0.0926 - accuracy: 0.9628\n",
            "Epoch 168/300\n",
            "807/807 [==============================] - 1s 1ms/step - loss: 0.0961 - accuracy: 0.9613\n",
            "Epoch 169/300\n",
            "807/807 [==============================] - 1s 1ms/step - loss: 0.0976 - accuracy: 0.9589\n",
            "Epoch 170/300\n",
            "807/807 [==============================] - 1s 1ms/step - loss: 0.0918 - accuracy: 0.9652\n",
            "Epoch 171/300\n",
            "807/807 [==============================] - 1s 1ms/step - loss: 0.0951 - accuracy: 0.9619\n",
            "Epoch 172/300\n",
            "807/807 [==============================] - 1s 1ms/step - loss: 0.0867 - accuracy: 0.9663\n",
            "Epoch 173/300\n",
            "807/807 [==============================] - 1s 1ms/step - loss: 0.0969 - accuracy: 0.9590\n",
            "Epoch 174/300\n",
            "807/807 [==============================] - 1s 1ms/step - loss: 0.0921 - accuracy: 0.9641\n",
            "Epoch 175/300\n",
            "807/807 [==============================] - 1s 1ms/step - loss: 0.0973 - accuracy: 0.9608\n",
            "Epoch 176/300\n",
            "807/807 [==============================] - 1s 1ms/step - loss: 0.0920 - accuracy: 0.9628\n",
            "Epoch 177/300\n",
            "807/807 [==============================] - 1s 1ms/step - loss: 0.0910 - accuracy: 0.9632\n",
            "Epoch 178/300\n",
            "807/807 [==============================] - 1s 1ms/step - loss: 0.0876 - accuracy: 0.9633\n",
            "Epoch 179/300\n",
            "807/807 [==============================] - 1s 1ms/step - loss: 0.0929 - accuracy: 0.9629\n",
            "Epoch 180/300\n",
            "807/807 [==============================] - 1s 2ms/step - loss: 0.0911 - accuracy: 0.9636\n",
            "Epoch 181/300\n",
            "807/807 [==============================] - 1s 2ms/step - loss: 0.0947 - accuracy: 0.9613\n",
            "Epoch 182/300\n",
            "807/807 [==============================] - 1s 2ms/step - loss: 0.0924 - accuracy: 0.9615\n",
            "Epoch 183/300\n",
            "807/807 [==============================] - 1s 1ms/step - loss: 0.0970 - accuracy: 0.9610\n",
            "Epoch 184/300\n",
            "807/807 [==============================] - 1s 1ms/step - loss: 0.1009 - accuracy: 0.9590\n",
            "Epoch 185/300\n",
            "807/807 [==============================] - 1s 2ms/step - loss: 0.0930 - accuracy: 0.9645\n",
            "Epoch 186/300\n",
            "807/807 [==============================] - 1s 1ms/step - loss: 0.0870 - accuracy: 0.9633\n",
            "Epoch 187/300\n",
            "807/807 [==============================] - 1s 1ms/step - loss: 0.0927 - accuracy: 0.9624\n",
            "Epoch 188/300\n",
            "807/807 [==============================] - 1s 1ms/step - loss: 0.0946 - accuracy: 0.9610\n",
            "Epoch 189/300\n",
            "807/807 [==============================] - 1s 2ms/step - loss: 0.0922 - accuracy: 0.9599\n",
            "Epoch 190/300\n",
            "807/807 [==============================] - 1s 2ms/step - loss: 0.0951 - accuracy: 0.9623\n",
            "Epoch 191/300\n",
            "807/807 [==============================] - 1s 2ms/step - loss: 0.0925 - accuracy: 0.9635\n",
            "Epoch 192/300\n",
            "807/807 [==============================] - 1s 2ms/step - loss: 0.0903 - accuracy: 0.9606\n",
            "Epoch 193/300\n",
            "807/807 [==============================] - 1s 1ms/step - loss: 0.0930 - accuracy: 0.9615\n",
            "Epoch 194/300\n",
            "807/807 [==============================] - 1s 1ms/step - loss: 0.0939 - accuracy: 0.9618\n",
            "Epoch 195/300\n",
            "807/807 [==============================] - 1s 1ms/step - loss: 0.0877 - accuracy: 0.9646\n",
            "Epoch 196/300\n",
            "807/807 [==============================] - 1s 1ms/step - loss: 0.0914 - accuracy: 0.9632\n",
            "Epoch 197/300\n",
            "807/807 [==============================] - 1s 1ms/step - loss: 0.0908 - accuracy: 0.9647\n",
            "Epoch 198/300\n",
            "807/807 [==============================] - 1s 1ms/step - loss: 0.0898 - accuracy: 0.9632\n",
            "Epoch 199/300\n",
            "807/807 [==============================] - 1s 1ms/step - loss: 0.0900 - accuracy: 0.9655\n",
            "Epoch 200/300\n",
            "807/807 [==============================] - 1s 1ms/step - loss: 0.0907 - accuracy: 0.9638\n",
            "Epoch 201/300\n",
            "807/807 [==============================] - 1s 1ms/step - loss: 0.0914 - accuracy: 0.9634\n",
            "Epoch 202/300\n",
            "807/807 [==============================] - 1s 1ms/step - loss: 0.0901 - accuracy: 0.9635\n",
            "Epoch 203/300\n",
            "807/807 [==============================] - 1s 1ms/step - loss: 0.1005 - accuracy: 0.9582\n",
            "Epoch 204/300\n",
            "807/807 [==============================] - 1s 2ms/step - loss: 0.0803 - accuracy: 0.9683\n",
            "Epoch 205/300\n",
            "807/807 [==============================] - 1s 2ms/step - loss: 0.0950 - accuracy: 0.9596\n",
            "Epoch 206/300\n",
            "807/807 [==============================] - 1s 1ms/step - loss: 0.0958 - accuracy: 0.9618\n",
            "Epoch 207/300\n",
            "807/807 [==============================] - 1s 1ms/step - loss: 0.0911 - accuracy: 0.9629\n",
            "Epoch 208/300\n",
            "807/807 [==============================] - 1s 1ms/step - loss: 0.0927 - accuracy: 0.9628\n",
            "Epoch 209/300\n",
            "807/807 [==============================] - 1s 1ms/step - loss: 0.0939 - accuracy: 0.9620\n",
            "Epoch 210/300\n",
            "807/807 [==============================] - 1s 2ms/step - loss: 0.0990 - accuracy: 0.9584\n",
            "Epoch 211/300\n",
            "807/807 [==============================] - 1s 2ms/step - loss: 0.0986 - accuracy: 0.9589\n",
            "Epoch 212/300\n",
            "807/807 [==============================] - 1s 1ms/step - loss: 0.0939 - accuracy: 0.9635\n",
            "Epoch 213/300\n",
            "807/807 [==============================] - 1s 1ms/step - loss: 0.0959 - accuracy: 0.9584\n",
            "Epoch 214/300\n",
            "807/807 [==============================] - 1s 1ms/step - loss: 0.0945 - accuracy: 0.9626\n",
            "Epoch 215/300\n",
            "807/807 [==============================] - 1s 2ms/step - loss: 0.0894 - accuracy: 0.9652\n",
            "Epoch 216/300\n",
            "807/807 [==============================] - 1s 1ms/step - loss: 0.0838 - accuracy: 0.9661\n",
            "Epoch 217/300\n",
            "807/807 [==============================] - 1s 1ms/step - loss: 0.0891 - accuracy: 0.9628\n",
            "Epoch 218/300\n",
            "807/807 [==============================] - 1s 2ms/step - loss: 0.0939 - accuracy: 0.9642\n",
            "Epoch 219/300\n",
            "807/807 [==============================] - 1s 1ms/step - loss: 0.1002 - accuracy: 0.9612\n",
            "Epoch 220/300\n",
            "807/807 [==============================] - 1s 1ms/step - loss: 0.0908 - accuracy: 0.9646\n",
            "Epoch 221/300\n",
            "807/807 [==============================] - 1s 1ms/step - loss: 0.0975 - accuracy: 0.9616\n",
            "Epoch 222/300\n",
            "807/807 [==============================] - 1s 1ms/step - loss: 0.0906 - accuracy: 0.9610\n",
            "Epoch 223/300\n",
            "807/807 [==============================] - 1s 1ms/step - loss: 0.0956 - accuracy: 0.9596\n",
            "Epoch 224/300\n",
            "807/807 [==============================] - 1s 1ms/step - loss: 0.0884 - accuracy: 0.9645\n",
            "Epoch 225/300\n",
            "807/807 [==============================] - 1s 1ms/step - loss: 0.0877 - accuracy: 0.9644\n",
            "Epoch 226/300\n",
            "807/807 [==============================] - 1s 2ms/step - loss: 0.0881 - accuracy: 0.9664\n",
            "Epoch 227/300\n",
            "807/807 [==============================] - 1s 1ms/step - loss: 0.0886 - accuracy: 0.9654\n",
            "Epoch 228/300\n",
            "807/807 [==============================] - 1s 1ms/step - loss: 0.0949 - accuracy: 0.9603\n",
            "Epoch 229/300\n",
            "807/807 [==============================] - 1s 1ms/step - loss: 0.0970 - accuracy: 0.9604\n",
            "Epoch 230/300\n",
            "807/807 [==============================] - 1s 1ms/step - loss: 0.0859 - accuracy: 0.9637\n",
            "Epoch 231/300\n",
            "807/807 [==============================] - 1s 1ms/step - loss: 0.0900 - accuracy: 0.9626\n",
            "Epoch 232/300\n",
            "807/807 [==============================] - 1s 2ms/step - loss: 0.0906 - accuracy: 0.9634\n",
            "Epoch 233/300\n",
            "807/807 [==============================] - 1s 1ms/step - loss: 0.0897 - accuracy: 0.9649\n",
            "Epoch 234/300\n",
            "807/807 [==============================] - 1s 1ms/step - loss: 0.0923 - accuracy: 0.9633\n",
            "Epoch 235/300\n",
            "807/807 [==============================] - 1s 2ms/step - loss: 0.0910 - accuracy: 0.9636\n",
            "Epoch 236/300\n",
            "807/807 [==============================] - 1s 1ms/step - loss: 0.0926 - accuracy: 0.9639\n",
            "Epoch 237/300\n",
            "807/807 [==============================] - 1s 2ms/step - loss: 0.0942 - accuracy: 0.9618\n",
            "Epoch 238/300\n",
            "807/807 [==============================] - 1s 1ms/step - loss: 0.0891 - accuracy: 0.9648\n",
            "Epoch 239/300\n",
            "807/807 [==============================] - 1s 1ms/step - loss: 0.0949 - accuracy: 0.9624\n",
            "Epoch 240/300\n",
            "807/807 [==============================] - 1s 2ms/step - loss: 0.0905 - accuracy: 0.9637\n",
            "Epoch 241/300\n",
            "807/807 [==============================] - 1s 2ms/step - loss: 0.1035 - accuracy: 0.9591\n",
            "Epoch 242/300\n",
            "807/807 [==============================] - 1s 2ms/step - loss: 0.0938 - accuracy: 0.9624\n",
            "Epoch 243/300\n",
            "807/807 [==============================] - 1s 1ms/step - loss: 0.0920 - accuracy: 0.9633\n",
            "Epoch 244/300\n",
            "807/807 [==============================] - 1s 2ms/step - loss: 0.0881 - accuracy: 0.9664\n",
            "Epoch 245/300\n",
            "807/807 [==============================] - 1s 1ms/step - loss: 0.0911 - accuracy: 0.9640\n",
            "Epoch 246/300\n",
            "807/807 [==============================] - 1s 1ms/step - loss: 0.0917 - accuracy: 0.9633\n",
            "Epoch 247/300\n",
            "807/807 [==============================] - 1s 2ms/step - loss: 0.0934 - accuracy: 0.9613\n",
            "Epoch 248/300\n",
            "807/807 [==============================] - 1s 2ms/step - loss: 0.0897 - accuracy: 0.9644\n",
            "Epoch 249/300\n",
            "807/807 [==============================] - 1s 1ms/step - loss: 0.0880 - accuracy: 0.9647\n",
            "Epoch 250/300\n",
            "807/807 [==============================] - 1s 2ms/step - loss: 0.0855 - accuracy: 0.9644\n",
            "Epoch 251/300\n",
            "807/807 [==============================] - 1s 1ms/step - loss: 0.0895 - accuracy: 0.9651\n",
            "Epoch 252/300\n",
            "807/807 [==============================] - 1s 1ms/step - loss: 0.0894 - accuracy: 0.9625\n",
            "Epoch 253/300\n",
            "807/807 [==============================] - 1s 1ms/step - loss: 0.0920 - accuracy: 0.9655\n",
            "Epoch 254/300\n",
            "807/807 [==============================] - 1s 1ms/step - loss: 0.0946 - accuracy: 0.9619\n",
            "Epoch 255/300\n",
            "807/807 [==============================] - 1s 2ms/step - loss: 0.0968 - accuracy: 0.9618\n",
            "Epoch 256/300\n",
            "807/807 [==============================] - 1s 2ms/step - loss: 0.0943 - accuracy: 0.9588\n",
            "Epoch 257/300\n",
            "807/807 [==============================] - 1s 1ms/step - loss: 0.0957 - accuracy: 0.9599\n",
            "Epoch 258/300\n",
            "807/807 [==============================] - 1s 2ms/step - loss: 0.0891 - accuracy: 0.9616\n",
            "Epoch 259/300\n",
            "807/807 [==============================] - 1s 1ms/step - loss: 0.0941 - accuracy: 0.9599\n",
            "Epoch 260/300\n",
            "807/807 [==============================] - 1s 1ms/step - loss: 0.0903 - accuracy: 0.9641\n",
            "Epoch 261/300\n",
            "807/807 [==============================] - 1s 2ms/step - loss: 0.0867 - accuracy: 0.9656\n",
            "Epoch 262/300\n",
            "807/807 [==============================] - 1s 1ms/step - loss: 0.0894 - accuracy: 0.9638\n",
            "Epoch 263/300\n",
            "807/807 [==============================] - 1s 2ms/step - loss: 0.0921 - accuracy: 0.9630\n",
            "Epoch 264/300\n",
            "807/807 [==============================] - 1s 2ms/step - loss: 0.0870 - accuracy: 0.9656\n",
            "Epoch 265/300\n",
            "807/807 [==============================] - 1s 1ms/step - loss: 0.0879 - accuracy: 0.9673\n",
            "Epoch 266/300\n",
            "807/807 [==============================] - 1s 2ms/step - loss: 0.0906 - accuracy: 0.9630\n",
            "Epoch 267/300\n",
            "807/807 [==============================] - 1s 2ms/step - loss: 0.0906 - accuracy: 0.9624\n",
            "Epoch 268/300\n",
            "807/807 [==============================] - 1s 1ms/step - loss: 0.0950 - accuracy: 0.9593\n",
            "Epoch 269/300\n",
            "807/807 [==============================] - 1s 1ms/step - loss: 0.0848 - accuracy: 0.9651\n",
            "Epoch 270/300\n",
            "807/807 [==============================] - 1s 1ms/step - loss: 0.0940 - accuracy: 0.9601\n",
            "Epoch 271/300\n",
            "807/807 [==============================] - 1s 2ms/step - loss: 0.0936 - accuracy: 0.9610\n",
            "Epoch 272/300\n",
            "807/807 [==============================] - 1s 1ms/step - loss: 0.0994 - accuracy: 0.9588\n",
            "Epoch 273/300\n",
            "807/807 [==============================] - 1s 1ms/step - loss: 0.0962 - accuracy: 0.9606\n",
            "Epoch 274/300\n",
            "807/807 [==============================] - 1s 1ms/step - loss: 0.1009 - accuracy: 0.9609\n",
            "Epoch 275/300\n",
            "807/807 [==============================] - 1s 1ms/step - loss: 0.0915 - accuracy: 0.9622\n",
            "Epoch 276/300\n",
            "807/807 [==============================] - 1s 1ms/step - loss: 0.0950 - accuracy: 0.9616\n",
            "Epoch 277/300\n",
            "807/807 [==============================] - 1s 2ms/step - loss: 0.0893 - accuracy: 0.9642\n",
            "Epoch 278/300\n",
            "807/807 [==============================] - 1s 2ms/step - loss: 0.1030 - accuracy: 0.9551\n",
            "Epoch 279/300\n",
            "807/807 [==============================] - 1s 2ms/step - loss: 0.0971 - accuracy: 0.9622\n",
            "Epoch 280/300\n",
            "807/807 [==============================] - 1s 1ms/step - loss: 0.0958 - accuracy: 0.9618\n",
            "Epoch 281/300\n",
            "807/807 [==============================] - 1s 2ms/step - loss: 0.0891 - accuracy: 0.9643\n",
            "Epoch 282/300\n",
            "807/807 [==============================] - 1s 2ms/step - loss: 0.0961 - accuracy: 0.9600\n",
            "Epoch 283/300\n",
            "807/807 [==============================] - 1s 2ms/step - loss: 0.0876 - accuracy: 0.9673\n",
            "Epoch 284/300\n",
            "807/807 [==============================] - 1s 2ms/step - loss: 0.0903 - accuracy: 0.9642\n",
            "Epoch 285/300\n",
            "807/807 [==============================] - 1s 1ms/step - loss: 0.0935 - accuracy: 0.9623\n",
            "Epoch 286/300\n",
            "807/807 [==============================] - 1s 1ms/step - loss: 0.0816 - accuracy: 0.9669\n",
            "Epoch 287/300\n",
            "807/807 [==============================] - 1s 2ms/step - loss: 0.0907 - accuracy: 0.9626\n",
            "Epoch 288/300\n",
            "807/807 [==============================] - 1s 1ms/step - loss: 0.0859 - accuracy: 0.9663\n",
            "Epoch 289/300\n",
            "807/807 [==============================] - 1s 1ms/step - loss: 0.0946 - accuracy: 0.9600\n",
            "Epoch 290/300\n",
            "807/807 [==============================] - 1s 1ms/step - loss: 0.0961 - accuracy: 0.9612\n",
            "Epoch 291/300\n",
            "807/807 [==============================] - 1s 1ms/step - loss: 0.0962 - accuracy: 0.9617\n",
            "Epoch 292/300\n",
            "807/807 [==============================] - 1s 1ms/step - loss: 0.0888 - accuracy: 0.9635\n",
            "Epoch 293/300\n",
            "807/807 [==============================] - 1s 2ms/step - loss: 0.0901 - accuracy: 0.9640\n",
            "Epoch 294/300\n",
            "807/807 [==============================] - 1s 2ms/step - loss: 0.0938 - accuracy: 0.9614\n",
            "Epoch 295/300\n",
            "807/807 [==============================] - 1s 2ms/step - loss: 0.0914 - accuracy: 0.9612\n",
            "Epoch 296/300\n",
            "807/807 [==============================] - 1s 2ms/step - loss: 0.1005 - accuracy: 0.9596\n",
            "Epoch 297/300\n",
            "807/807 [==============================] - 1s 2ms/step - loss: 0.0915 - accuracy: 0.9643\n",
            "Epoch 298/300\n",
            "807/807 [==============================] - 1s 1ms/step - loss: 0.0956 - accuracy: 0.9597\n",
            "Epoch 299/300\n",
            "807/807 [==============================] - 1s 1ms/step - loss: 0.0894 - accuracy: 0.9642\n",
            "Epoch 300/300\n",
            "807/807 [==============================] - 1s 1ms/step - loss: 0.0929 - accuracy: 0.9619\n"
          ],
          "name": "stdout"
        },
        {
          "output_type": "execute_result",
          "data": {
            "text/plain": [
              "<tensorflow.python.keras.callbacks.History at 0x7f92063c6550>"
            ]
          },
          "metadata": {
            "tags": []
          },
          "execution_count": 57
        }
      ]
    },
    {
      "cell_type": "code",
      "metadata": {
        "id": "UGKmRuKzYmNm"
      },
      "source": [
        "y_pred = model.predict(X_test)"
      ],
      "execution_count": null,
      "outputs": []
    },
    {
      "cell_type": "code",
      "metadata": {
        "colab": {
          "base_uri": "https://localhost:8080/"
        },
        "id": "5DCbfvh_jps9",
        "outputId": "d8906f49-762c-460f-9b29-c9c2e22afcc5"
      },
      "source": [
        "score = model.evaluate(X_test, y_test,verbose=1)\n",
        "\n",
        "print(score)"
      ],
      "execution_count": null,
      "outputs": [
        {
          "output_type": "stream",
          "text": [
            "125/125 [==============================] - 0s 1ms/step - loss: 0.0963 - accuracy: 0.9620\n",
            "[0.09630213677883148, 0.9620029926300049]\n"
          ],
          "name": "stdout"
        }
      ]
    },
    {
      "cell_type": "code",
      "metadata": {
        "colab": {
          "base_uri": "https://localhost:8080/"
        },
        "id": "8EQ-qGVpjv4O",
        "outputId": "8b25c202-a731-4a60-8ea8-9f75218ed4ad"
      },
      "source": [
        "from sklearn.metrics import confusion_matrix\n",
        "confusion_matrix(y_test,y_pred.round())"
      ],
      "execution_count": null,
      "outputs": [
        {
          "output_type": "execute_result",
          "data": {
            "text/plain": [
              "array([[1625,   57],\n",
              "       [  94, 2198]])"
            ]
          },
          "metadata": {
            "tags": []
          },
          "execution_count": 60
        }
      ]
    },
    {
      "cell_type": "code",
      "metadata": {
        "colab": {
          "base_uri": "https://localhost:8080/"
        },
        "id": "WB3oXxW1lmdw",
        "outputId": "63a9cbd3-e673-4707-8b97-e7252edf825a"
      },
      "source": [
        "from sklearn.metrics import precision_recall_curve\n",
        "from numpy import argmax\n",
        "precision, recall, thresholds = precision_recall_curve(y_test, y_pred)\n",
        "fscore = (2 * precision * recall) / (precision + recall)\n",
        "print (\"thresholds\")\n",
        "print(thresholds)\n",
        "print (\"fscore\")\n",
        "print(fscore)\n",
        "ix = argmax(fscore)\n",
        "print('Best Threshold=%f, F-Score=%.3f' % (thresholds[ix], fscore[ix]))"
      ],
      "execution_count": null,
      "outputs": [
        {
          "output_type": "stream",
          "text": [
            "thresholds\n",
            "[0.0088689  0.0133794  0.01367638 0.0147627  0.01489416 0.0164212\n",
            " 0.01966488 0.0207766  0.0232487  0.03926131 0.03926137 0.05734497\n",
            " 0.0652869  0.07190177 0.08160886 0.08753118 0.09855729 0.09903416\n",
            " 0.09903428 0.10046077 0.15332973 0.16271302 0.17214909 0.17214915\n",
            " 0.1789957  0.185918   0.18591806 0.18825918 0.19651684 0.2189801\n",
            " 0.2189802  0.25607198 0.25710058 0.27271092 0.28747278 0.3149917\n",
            " 0.37115422 0.43372288 0.4337229  0.5106743  0.5106744  0.53808445\n",
            " 0.55490816 0.563352   0.6568754  0.6772414  0.6848676  0.69082105\n",
            " 0.71270525 0.7854457  0.84704363 0.87336934 0.9723985  0.97421753\n",
            " 0.97505456 0.9785174  0.9852272  0.9889915  0.9956977  0.9967996\n",
            " 0.9989717  0.99921715 0.99929225 0.99969673 0.99982864 0.9999236\n",
            " 0.9999337  0.9999537  0.9999566  0.9999671  0.99996775 0.9999678\n",
            " 0.99997336 0.9999826  0.9999865  0.9999919  0.9999938  0.99999595\n",
            " 0.99999714 0.9999977  0.9999981  0.99999857 0.9999987  0.9999989\n",
            " 0.999999   0.99999905 0.9999992  0.9999994  0.99999946 0.9999995\n",
            " 0.9999996  0.99999976 0.9999998  1.        ]\n",
            "fscore\n",
            "[0.73168396 0.87687572 0.87704445 0.87839661 0.87890474 0.89232576\n",
            " 0.89390076 0.894427   0.8956573  0.89636185 0.89724409 0.91131131\n",
            " 0.91145833 0.9249286  0.92587298 0.92581239 0.9265398  0.92650972\n",
            " 0.92669943 0.92688921 0.93264463 0.93380223 0.94414112 0.94803818\n",
            " 0.94841859 0.94882141 0.95118312 0.95095949 0.95177123 0.95618557\n",
            " 0.95977509 0.95955008 0.96183868 0.96161353 0.96138829 0.96600132\n",
            " 0.96594155 0.96615385 0.96636623 0.96679129 0.96694579 0.96836007\n",
            " 0.96813015 0.96790013 0.96767001 0.96571813 0.96591928 0.96568737\n",
            " 0.9615906  0.96128594 0.96150362 0.9612684  0.96079764 0.9605621\n",
            " 0.95318566 0.95150961 0.95126973 0.95078965 0.95030914 0.94958753\n",
            " 0.94741676 0.9462069  0.94596459 0.94547964 0.93146853 0.93097015\n",
            " 0.93072078 0.9304713  0.9302217  0.92997199 0.92696629 0.9264637\n",
            " 0.92621223 0.92293233 0.9226792  0.91605581 0.91579943 0.91554294\n",
            " 0.91297131 0.91271347 0.91219744 0.90701001 0.90596659 0.85199098\n",
            " 0.84330053 0.84271649 0.84096081 0.83890578 0.8386116  0.83684344\n",
            " 0.8179474  0.77400374 0.76408736 0.76375405 0.        ]\n",
            "Best Threshold=0.538084, F-Score=0.968\n"
          ],
          "name": "stdout"
        }
      ]
    },
    {
      "cell_type": "code",
      "metadata": {
        "colab": {
          "base_uri": "https://localhost:8080/",
          "height": 279
        },
        "id": "kEneCimbrx2R",
        "outputId": "fcc1f7e6-e34a-4154-dc08-33854eb71fe6"
      },
      "source": [
        "no_skill = len(y_test[y_test==1]) / len(y_test)\n",
        "plt.plot([0,1], [no_skill,no_skill], linestyle='--', label='No Skill')\n",
        "plt.plot(recall, precision, marker='.', label='Logistic')\n",
        "plt.scatter(recall[ix], precision[ix], marker='o', color='black', label='Best')\n",
        "# axis labels\n",
        "plt.xlabel('Recall')\n",
        "plt.ylabel('Precision')\n",
        "plt.legend()\n",
        "# show the plot\n",
        "plt.show()"
      ],
      "execution_count": null,
      "outputs": [
        {
          "output_type": "display_data",
          "data": {
            "image/png": "[encoded data removed]",
            "text/plain": [
              "<Figure size 432x288 with 1 Axes>"
            ]
          },
          "metadata": {
            "tags": [],
            "needs_background": "light"
          }
        }
      ]
    },
    {
      "cell_type": "code",
      "metadata": {
        "id": "vcsCx5STHzFE"
      },
      "source": [
        "def have_ip_address(url):\n",
        "    match = re.search(\n",
        "        '(([01]?\\\\d\\\\d?|2[0-4]\\\\d|25[0-5])\\\\.([01]?\\\\d\\\\d?|2[0-4]\\\\d|25[0-5])\\\\.([01]?\\\\d\\\\d?|2[0-4]\\\\d|25[0-5])\\\\.'\n",
        "        '([01]?\\\\d\\\\d?|2[0-4]\\\\d|25[0-5])\\\\/)|'  # IPv4\n",
        "        '((0x[0-9a-fA-F]{1,2})\\\\.(0x[0-9a-fA-F]{1,2})\\\\.(0x[0-9a-fA-F]{1,2})\\\\.(0x[0-9a-fA-F]{1,2})\\\\/)' # IPv4 in hexadecimal\n",
        "        '(?:[a-fA-F0-9]{1,4}:){7}[a-fA-F0-9]{1,4}', url)  # Ipv6\n",
        "    if match:\n",
        "        haveipaddress = -1\n",
        "    else:\n",
        "        haveipaddress = 1\n",
        "    return haveipaddress\n"
      ],
      "execution_count": null,
      "outputs": []
    },
    {
      "cell_type": "code",
      "metadata": {
        "id": "qDqVoVQHKKXb"
      },
      "source": [
        "def url_length(url):\n",
        "    if len(url)<54:\n",
        "        urllength = 1\n",
        "    else:\n",
        "        urllength = -1\n",
        "    return urllength"
      ],
      "execution_count": null,
      "outputs": []
    },
    {
      "cell_type": "code",
      "metadata": {
        "id": "jW9NFrctKXtQ"
      },
      "source": [
        "def url_shortener(url):\n",
        "    match=re.search('bit\\.ly|goo\\.gl|shorte\\.st|go2l\\.ink|x\\.co|ow\\.ly|t\\.co|tinyurl|tr\\.im|is\\.gd|cli\\.gs|'\n",
        "                    'yfrog\\.com|migre\\.me|ff\\.im|tiny\\.cc|url4\\.eu|twit\\.ac|su\\.pr|twurl\\.nl|snipurl\\.com|'\n",
        "                    'short\\.to|BudURL\\.com|ping\\.fm|post\\.ly|Just\\.as|bkite\\.com|snipr\\.com|fic\\.kr|loopt\\.us|'\n",
        "                    'doiop\\.com|short\\.ie|kl\\.am|wp\\.me|rubyurl\\.com|om\\.ly|to\\.ly|bit\\.do|t\\.co|lnkd\\.in|'\n",
        "                    'db\\.tt|qr\\.ae|adf\\.ly|goo\\.gl|bitly\\.com|cur\\.lv|tinyurl\\.com|ow\\.ly|bit\\.ly|ity\\.im|'\n",
        "                    'q\\.gs|is\\.gd|po\\.st|bc\\.vc|twitthis\\.com|u\\.to|j\\.mp|buzurl\\.com|cutt\\.us|u\\.bb|yourls\\.org|'\n",
        "                    'x\\.co|prettylinkpro\\.com|scrnch\\.me|filoops\\.info|vzturl\\.com|qr\\.net|1url\\.com|tweez\\.me|v\\.gd|tr\\.im|link\\.zip\\.net',url)\n",
        "\n",
        "    if match:\n",
        "        urlshortener = -1\n",
        "    else:\n",
        "        urlshortener = 1\n",
        "    return urlshortener"
      ],
      "execution_count": null,
      "outputs": []
    },
    {
      "cell_type": "code",
      "metadata": {
        "id": "NWyT32ndK5bk"
      },
      "source": [
        "def have_atrate_symbol(url):\n",
        "    match = re.search('@',url)\n",
        "\n",
        "    if match:\n",
        "        haveatratesymbol = -1\n",
        "    else:\n",
        "        haveatratesymbol =  1   \n",
        "    return haveatratesymbol    "
      ],
      "execution_count": null,
      "outputs": []
    },
    {
      "cell_type": "code",
      "metadata": {
        "id": "web5gwbzLPLY"
      },
      "source": [
        "def have_subdomain(url):\n",
        "    if(have_ip_address(url)==-1):\n",
        "        match = re.search('(([01]?\\\\d\\\\d?|2[0-4]\\\\d|25[0-5])\\\\.([01]?\\\\d\\\\d?|2[0-4]\\\\d|25[0-5])\\\\.([01]?\\\\d\\\\d?|2[0-4]\\\\d|25[0-5])\\\\.([01]?\\\\d\\\\d?|2[0-4]\\\\d|25[0-5]))|(?:[a-fA-F0-9]{1,4}:){7}[a-fA-F0-9]{1,4}',url)\n",
        "        pos = match.end(0)\n",
        "        url = url[pos:]\n",
        "    list = [x.start(0) for x in re.finditer('\\.',url)]\n",
        "    if len(list)<=3:\n",
        "        havesubdomain =  1\n",
        "    else:\n",
        "        havesubdomain = -1\n",
        "    return havesubdomain\n"
      ],
      "execution_count": null,
      "outputs": []
    },
    {
      "cell_type": "code",
      "metadata": {
        "id": "NU2u9MKn0HwK"
      },
      "source": [
        "def redirection(url):\n",
        "  pos = url.rfind('//')\n",
        "  if pos > 6:\n",
        "    if pos > 7:\n",
        "      redirectioner =  -1\n",
        "    else:\n",
        "      redirectioner = 1\n",
        "  else:\n",
        "    redirectioner = 1\n",
        "  return redirectioner"
      ],
      "execution_count": null,
      "outputs": []
    },
    {
      "cell_type": "code",
      "metadata": {
        "id": "IT7aZEqY0VZl"
      },
      "source": [
        "def httpDomain(url):\n",
        "  if 'https' in url:\n",
        "    httpdomain = 1\n",
        "  else:\n",
        "    httpdomain = -1\n",
        "  return httpdomain"
      ],
      "execution_count": null,
      "outputs": []
    },
    {
      "cell_type": "code",
      "metadata": {
        "id": "HwpQjhFw1saL"
      },
      "source": [
        "def prefixSuffix(url):\n",
        "    if '-' in urlparse(url).netloc:\n",
        "        prefixsuffix = -1            # phishing\n",
        "    else:\n",
        "        prefixsuffix = 1            # legitimate\n",
        "    return prefixsuffix"
      ],
      "execution_count": null,
      "outputs": []
    },
    {
      "cell_type": "code",
      "metadata": {
        "id": "uM5mRx3X1jOA"
      },
      "source": [
        "def getDepth(url):\n",
        "  s = urlparse(url).path.split('/')\n",
        "  depth = 0\n",
        "  for j in range(len(s)):\n",
        "    if len(s[j]) != 0:\n",
        "      depth = depth+1\n",
        "  return depth"
      ],
      "execution_count": null,
      "outputs": []
    },
    {
      "cell_type": "code",
      "metadata": {
        "id": "godiwDxf43ZK"
      },
      "source": [
        "def domainAge(url):\n",
        "  dns = 0\n",
        "  try:\n",
        "    domain_name = whois.whois(urlparse(url).netloc)\n",
        "    print(domain_name)\n",
        "    creation_date = domain_name.creation_date\n",
        "    expiration_date = domain_name.expiration_date\n",
        "    if (isinstance(creation_date,str) or isinstance(expiration_date,str)):\n",
        "      try:\n",
        "        creation_date = datetime.strptime(creation_date,'%Y-%m-%d')\n",
        "        expiration_date = datetime.strptime(expiration_date,\"%Y-%m-%d\")\n",
        "      except:\n",
        "        return 1\n",
        "    if ((expiration_date is None) or (creation_date is None)):\n",
        "        return 1\n",
        "    elif ((type(expiration_date) is list) or (type(creation_date) is list)):\n",
        "        return 1\n",
        "    else:\n",
        "      ageofdomain = abs((expiration_date - creation_date).days)\n",
        "      if ((ageofdomain/30) < 6):\n",
        "        age = 1\n",
        "      else:\n",
        "        age = 0\n",
        "      return age\n",
        "  except:\n",
        "    dns = 1\n"
      ],
      "execution_count": null,
      "outputs": []
    },
    {
      "cell_type": "code",
      "metadata": {
        "id": "irkYqCAPABCZ"
      },
      "source": [
        "def GetFeatures (url):\n",
        "  feature_array = np.array([])\n",
        "  hia = have_ip_address(url)\n",
        "  ul = url_length(url)\n",
        "  us = url_shortener(url)\n",
        "  hs = have_subdomain(url)\n",
        "  r = redirection(url)\n",
        "  hd = httpDomain(url)\n",
        "  ps = prefixSuffix(url)\n",
        "  d = getDepth(url)\n",
        "  a = domainAge(url)\n",
        "  feature_array= np.append(feature_array,[hia,ul,us,hs,r,hd,ps,d,a])\n",
        "  feature_array = feature_array.reshape(1,-1)\n",
        "  return feature_array"
      ],
      "execution_count": null,
      "outputs": []
    },
    {
      "cell_type": "code",
      "metadata": {
        "colab": {
          "base_uri": "https://localhost:8080/"
        },
        "id": "Dm0JYa7-_eI3",
        "outputId": "da439338-e7c2-455a-f8ee-10c55d02ee72"
      },
      "source": [
        "UserUrl = input(\"Please enter the URL to test\")\n",
        "features = GetFeatures(UserUrl)\n",
        "print(features)"
      ],
      "execution_count": null,
      "outputs": [
        {
          "output_type": "stream",
          "text": [
            "Please enter the URL to testhttp://99utilities.com.br/olele/2016gdoc/index.html...\n",
            "{\n",
            "  \"domain_name\": null,\n",
            "  \"registrant_name\": null,\n",
            "  \"registrant_id\": null,\n",
            "  \"country\": null,\n",
            "  \"owner_c\": null,\n",
            "  \"admin_c\": null,\n",
            "  \"tech_c\": null,\n",
            "  \"billing_c\": null,\n",
            "  \"name_server\": null,\n",
            "  \"nsstat\": null,\n",
            "  \"nslastaa\": null,\n",
            "  \"saci\": null,\n",
            "  \"creation_date\": null,\n",
            "  \"updated_date\": null,\n",
            "  \"expiration_date\": null,\n",
            "  \"status\": null,\n",
            "  \"nic_hdl_br\": null,\n",
            "  \"person\": null,\n",
            "  \"email\": null\n",
            "}\n",
            "[[ 1. -1.  1. -1.  1. -1.  1.  3.  1.]]\n"
          ],
          "name": "stdout"
        }
      ]
    },
    {
      "cell_type": "code",
      "metadata": {
        "id": "LA7Fpp-FGHAO",
        "colab": {
          "base_uri": "https://localhost:8080/"
        },
        "outputId": "9c79c601-e080-40cf-b8ba-fe3c27cef165"
      },
      "source": [
        "resultofprediction = model.predict(features)\n",
        "print(resultofprediction)"
      ],
      "execution_count": null,
      "outputs": [
        {
          "output_type": "stream",
          "text": [
            "[[0.86558574]]\n"
          ],
          "name": "stdout"
        }
      ]
    },
    {
      "cell_type": "code",
      "metadata": {
        "colab": {
          "base_uri": "https://localhost:8080/"
        },
        "id": "hpjH5SlMs4Gn",
        "outputId": "2dc805c0-048c-4850-db48-433092430654"
      },
      "source": [
        "if resultofprediction <= 0.558084:\n",
        "  label = \"Benign\"\n",
        "else:\n",
        "  label = \"Malicious\"\n",
        "print(label)"
      ],
      "execution_count": null,
      "outputs": [
        {
          "output_type": "stream",
          "text": [
            "Malicious\n"
          ],
          "name": "stdout"
        }
      ]
    }
  ]
}